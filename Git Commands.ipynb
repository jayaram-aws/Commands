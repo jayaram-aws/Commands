{
 "cells": [
  {
   "cell_type": "markdown",
   "metadata": {},
   "source": [
    "### Setting up VS code as default editor: Set Global Core Editor:\n",
    "\n",
    "    git config --global core.editor \"code --wait\""
   ]
  },
  {
   "cell_type": "markdown",
   "metadata": {},
   "source": [
    "<i> If the command `code` is not recognized, it means that the `code` command-line interface for Visual Studio Code is not installed or not added to your PATH. You can fix this by installing the `code` command in PATH directly from Visual Studio Code. Here’s how you can do it:</i>\n",
    "\n",
    "### Step 1: Install `code` Command in PATH\n",
    "\n",
    "1. **Open Visual Studio Code.**\n",
    "\n",
    "2. **Open the Command Palette:**\n",
    "   - You can open the Command Palette by pressing `Cmd` + `Shift` + `P` on your keyboard.\n",
    "\n",
    "3. **Type `shell command`:**\n",
    "   - In the Command Palette, start typing `shell command` until you see the option **Shell Command: Install 'code' command in PATH**.\n",
    "\n",
    "4. **Select the Command:**\n",
    "   - Click on **Shell Command: Install 'code' command in PATH**.\n",
    "\n",
    "5. **Restart Your Terminal:**\n",
    "   - After running this command, restart your terminal or open a new terminal window to ensure the `code` command is now available.\n",
    "\n",
    "### Step 2: Set VS Code as the Default Editor for Git\n",
    "\n",
    "1. **Open Terminal.**\n",
    "\n",
    "2. **Run the Following Command:**\n",
    "   \n",
    "   git config --global core.editor \"code --wait\"\n",
    "   \n",
    "\n",
    "By installing the `code` command in your PATH, you should now be able to use it in the terminal, and setting it as the default editor for Git should work without any issues."
   ]
  },
  {
   "cell_type": "markdown",
   "metadata": {},
   "source": [
    "##### Changing directory "
   ]
  },
  {
   "cell_type": "code",
   "execution_count": null,
   "metadata": {
    "vscode": {
     "languageId": "plaintext"
    }
   },
   "outputs": [],
   "source": [
    "cd /path/to/your/directory"
   ]
  },
  {
   "cell_type": "markdown",
   "metadata": {},
   "source": [
    "#### To go to your home directory"
   ]
  },
  {
   "cell_type": "code",
   "execution_count": null,
   "metadata": {
    "vscode": {
     "languageId": "plaintext"
    }
   },
   "outputs": [],
   "source": [
    "cd ~"
   ]
  },
  {
   "cell_type": "markdown",
   "metadata": {},
   "source": [
    "##### To go up one directory level"
   ]
  },
  {
   "cell_type": "code",
   "execution_count": null,
   "metadata": {
    "vscode": {
     "languageId": "plaintext"
    }
   },
   "outputs": [],
   "source": [
    "cd .."
   ]
  },
  {
   "cell_type": "markdown",
   "metadata": {},
   "source": [
    "##### To navigate to the root directory"
   ]
  },
  {
   "cell_type": "code",
   "execution_count": null,
   "metadata": {
    "vscode": {
     "languageId": "plaintext"
    }
   },
   "outputs": [],
   "source": [
    "cd /"
   ]
  },
  {
   "cell_type": "markdown",
   "metadata": {},
   "source": [
    "##### Check Current Directory"
   ]
  },
  {
   "cell_type": "code",
   "execution_count": null,
   "metadata": {
    "vscode": {
     "languageId": "plaintext"
    }
   },
   "outputs": [],
   "source": [
    "pwd\n",
    "present working directory"
   ]
  },
  {
   "cell_type": "markdown",
   "metadata": {},
   "source": [
    "##### Clone the Repository"
   ]
  },
  {
   "cell_type": "code",
   "execution_count": null,
   "metadata": {
    "vscode": {
     "languageId": "plaintext"
    }
   },
   "outputs": [],
   "source": [
    "git clone <URL of the repository>  [https://github.com/yourusername/your-repo.git]"
   ]
  },
  {
   "cell_type": "markdown",
   "metadata": {},
   "source": [
    "##### Open the Repository in VS Code"
   ]
  },
  {
   "cell_type": "code",
   "execution_count": null,
   "metadata": {
    "vscode": {
     "languageId": "plaintext"
    }
   },
   "outputs": [],
   "source": [
    "cd /path/to/your-repo\n",
    "code ."
   ]
  },
  {
   "cell_type": "markdown",
   "metadata": {},
   "source": [
    "## To check your Git connection through Git Credential Manager (GCM), you can follow these steps:"
   ]
  },
  {
   "cell_type": "markdown",
   "metadata": {},
   "source": [
    "### Verify Git Configuration\n",
    "1. **Open your terminal**.\n",
    "2. Run the command:\n",
    "   ```bash\n",
    "   git config --global --list\n",
    "   ```\n",
    "   Look for lines related to `credential.helper`, which should indicate that GCM is set up. For example:\n",
    "   ```\n",
    "   credential.helper=manager-core\n",
    "   ```\n",
    "\n",
    "### Test Connection\n",
    "1. **Check your Git configuration** for a remote repository URL. Run:\n",
    "   ```bash\n",
    "   git remote -v\n",
    "   ```\n",
    "   Ensure you have the correct URL for the remote repository.\n",
    "\n",
    "2. **Try fetching from or pushing to the repository** to test the connection:\n",
    "   ```bash\n",
    "   git fetch\n",
    "   ```\n",
    "   or\n",
    "   ```bash\n",
    "   git push\n",
    "   ```\n",
    "   If GCM is properly configured, you should be prompted for credentials if necessary, and the authentication should work seamlessly.\n",
    "\n",
    "### Check GCM Status\n",
    "For Git Credential Manager Core (GCM Core), you can use the following command to see the version and status:\n",
    "```bash\n",
    "git-credential-manager-core --version\n",
    "```\n",
    "This ensures that GCM Core is correctly installed and available.\n",
    "\n",
    "### Troubleshooting\n",
    "If you encounter issues:\n",
    "- Ensure that Git Credential Manager is correctly installed. You can download and install it from the [GitHub releases page](https://github.com/GitCredentialManager/git-credential-manager/releases).\n",
    "- Check the Git configuration files (`.gitconfig`) for any misconfigurations related to credential helpers.\n",
    "\n",
    "If you need specific help with errors or configuration, let me know!"
   ]
  },
  {
   "cell_type": "markdown",
   "metadata": {},
   "source": []
  }
 ],
 "metadata": {
  "language_info": {
   "name": "python"
  }
 },
 "nbformat": 4,
 "nbformat_minor": 2
}
